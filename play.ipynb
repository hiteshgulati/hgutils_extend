{
 "cells": [
  {
   "cell_type": "code",
   "execution_count": 3,
   "metadata": {},
   "outputs": [],
   "source": [
    "import hgdatetime\n",
    "import time\n",
    "from datetime import date\n",
    "t = hgdatetime.timer()"
   ]
  },
  {
   "cell_type": "code",
   "execution_count": 2,
   "metadata": {},
   "outputs": [
    {
     "name": "stdout",
     "output_type": "stream",
     "text": [
      "Yes\n",
      "\t Exterior - 1.01 seconds*\n",
      "\t\t i=0 - 1.01 seconds\n",
      "\t Exterior - 2.01 seconds*\n",
      "\t\t i=1 - 1.01 seconds\n",
      "\t\t i=2 - 1.05 seconds*\n",
      "\t\t\t j=0 - 40.45 milliseconds\n",
      "\t\t i=2 - 1.09 seconds*\n",
      "\t\t\t j=1 - 44.01 milliseconds\n",
      "\t\t i=2 - 1.13 seconds*\n",
      "\t\t\t j=2 - 45.02 milliseconds\n",
      "\t\t i=2 - 1.18 seconds*\n",
      "\t\t\t j=3 - 45.03 milliseconds\n",
      "\t\t i=2 - 1.22 seconds*\n",
      "\t\t\t j=4 - 44.62 milliseconds\n",
      "\t Exterior - 3.24 seconds*\n",
      "\t\t i=2 - 1.23 seconds\n",
      "\t Exterior - 4.24 seconds*\n",
      "\t\t i=3 - 1.01 seconds\n",
      " Testing timer - 6.25 seconds*\n",
      "\t Exterior - 4.24 seconds\n"
     ]
    }
   ],
   "source": [
    "print(\"Yes\")\n",
    "t = hgdatetime.timer(\"Testing timer\")\n",
    "time.sleep(2)\n",
    "t.start(\"Exterior\")\n",
    "for i in range(4):\n",
    "    t.start(\"i=\"+str(i))\n",
    "    time.sleep(1)    \n",
    "    if i==2:\n",
    "        for j in range(5):\n",
    "            t.start(\"j=\"+str(j))\n",
    "            time.sleep(.04)\n",
    "            t.stop(print=True,verbose=1)\n",
    "    t.stop(print=True,verbose=1)\n",
    "t.stop(print=True,verbose=1)\n",
    "    # t.print(verbose=2)"
   ]
  },
  {
   "cell_type": "code",
   "execution_count": 4,
   "metadata": {},
   "outputs": [
    {
     "name": "stdout",
     "output_type": "stream",
     "text": [
      "2022-03-01\n",
      "2022-03-02\n",
      "2022-03-03\n",
      "2022-03-04\n",
      "2022-03-05\n",
      "2022-03-06\n",
      "2022-03-07\n",
      "2022-03-08\n",
      "2022-03-09\n",
      "2022-03-10\n"
     ]
    }
   ],
   "source": [
    "for dt in hgdatetime.daterange(date(2022,3,1),date(2022,3,10)):\n",
    "    print(dt)"
   ]
  },
  {
   "cell_type": "code",
   "execution_count": null,
   "metadata": {},
   "outputs": [],
   "source": []
  }
 ],
 "metadata": {
  "kernelspec": {
   "display_name": "Python 3.10.2 64-bit",
   "language": "python",
   "name": "python3"
  },
  "language_info": {
   "codemirror_mode": {
    "name": "ipython",
    "version": 3
   },
   "file_extension": ".py",
   "mimetype": "text/x-python",
   "name": "python",
   "nbconvert_exporter": "python",
   "pygments_lexer": "ipython3",
   "version": "3.10.2"
  },
  "orig_nbformat": 4,
  "vscode": {
   "interpreter": {
    "hash": "aee8b7b246df8f9039afb4144a1f6fd8d2ca17a180786b69acc140d282b71a49"
   }
  }
 },
 "nbformat": 4,
 "nbformat_minor": 2
}
